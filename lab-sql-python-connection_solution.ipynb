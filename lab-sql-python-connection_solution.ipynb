{
 "cells": [
  {
   "cell_type": "code",
   "execution_count": 11,
   "metadata": {},
   "outputs": [],
   "source": [
    "from sqlalchemy import create_engine\n",
    "import pandas as pd\n",
    "\n",
    "# Ejemplo de conexión \n",
    "def connect_to_database(user, password, host, db_name):\n",
    "    engine = create_engine(f'mysql+pymysql://{user}:{password}@{host}/{db_name}')\n",
    "    return engine"
   ]
  },
  {
   "cell_type": "code",
   "execution_count": 12,
   "metadata": {},
   "outputs": [],
   "source": [
    "def rentals_month(engine, month, year):\n",
    "    query = f\"\"\"\n",
    "        SELECT rental_id, customer_id, rental_date\n",
    "        FROM rental\n",
    "        WHERE MONTH(rental_date) = {month} AND YEAR(rental_date) = {year}\n",
    "    \"\"\"\n",
    "    # Ejecutar y devolver los datos como un DataFrame de pandas\n",
    "    df = pd.read_sql(query, engine)\n",
    "    return df"
   ]
  },
  {
   "cell_type": "code",
   "execution_count": 13,
   "metadata": {},
   "outputs": [],
   "source": [
    "def rental_count_month(df, month, year):\n",
    "    # Agrupar por customer_id y contar alquileres\n",
    "    rental_counts = df.groupby('customer_id').size().reset_index(name=f'rentals_{month:02d}_{year}')\n",
    "    return rental_counts"
   ]
  },
  {
   "cell_type": "code",
   "execution_count": 14,
   "metadata": {},
   "outputs": [],
   "source": [
    "def compare_rentals(df1, df2):\n",
    "    # Fusionar los dos DataFrames en base a 'customer_id'\n",
    "    combined_df = pd.merge(df1, df2, on='customer_id', how='outer').fillna(0)\n",
    "    \n",
    "    # Añadir una columna de diferencia\n",
    "    month1 = df1.columns[1]\n",
    "    month2 = df2.columns[1]\n",
    "    \n",
    "    combined_df['difference'] = combined_df[month1] - combined_df[month2]\n",
    "    \n",
    "    return combined_df"
   ]
  },
  {
   "cell_type": "code",
   "execution_count": 15,
   "metadata": {},
   "outputs": [
    {
     "name": "stdout",
     "output_type": "stream",
     "text": [
      "     customer_id  rentals_05_2005  rentals_06_2005  difference\n",
      "0              1              2.0              7.0        -5.0\n",
      "1              2              1.0              1.0         0.0\n",
      "2              3              2.0              4.0        -2.0\n",
      "3              4              0.0              6.0        -6.0\n",
      "4              5              3.0              5.0        -2.0\n",
      "..           ...              ...              ...         ...\n",
      "593          595              1.0              2.0        -1.0\n",
      "594          596              6.0              2.0         4.0\n",
      "595          597              2.0              3.0        -1.0\n",
      "596          598              0.0              1.0        -1.0\n",
      "597          599              1.0              4.0        -3.0\n",
      "\n",
      "[598 rows x 4 columns]\n"
     ]
    }
   ],
   "source": [
    "# Conectar a la base de datos\n",
    "engine = connect_to_database(user=\"root\", password=\"root\", host=\"127.0.0.1\", db_name=\"sakila\")\n",
    "\n",
    "# Datos mayo y junio 2005\n",
    "df_may = rentals_month(engine, 5, 2005)\n",
    "df_june = rentals_month(engine, 6, 2005)\n",
    "\n",
    "# Contar los alquileres para cada mes\n",
    "rental_counts_may = rental_count_month(df_may, 5, 2005)\n",
    "rental_counts_june = rental_count_month(df_june, 6, 2005)\n",
    "\n",
    "# Comparar la actividad entre 2 meses\n",
    "comparison = compare_rentals(rental_counts_may, rental_counts_june)\n",
    "\n",
    "# Resultado\n",
    "print(comparison)"
   ]
  }
 ],
 "metadata": {
  "kernelspec": {
   "display_name": "Python 3",
   "language": "python",
   "name": "python3"
  },
  "language_info": {
   "codemirror_mode": {
    "name": "ipython",
    "version": 3
   },
   "file_extension": ".py",
   "mimetype": "text/x-python",
   "name": "python",
   "nbconvert_exporter": "python",
   "pygments_lexer": "ipython3",
   "version": "3.12.6"
  }
 },
 "nbformat": 4,
 "nbformat_minor": 2
}
