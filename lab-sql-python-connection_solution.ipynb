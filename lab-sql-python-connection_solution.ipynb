{
 "cells": [
  {
   "cell_type": "code",
   "execution_count": 3,
   "metadata": {},
   "outputs": [],
   "source": [
    "import pandas as pd\n",
    "from sqlalchemy import create_engine\n",
    "from getpass import getpass\n",
    "\n",
    "# Función para conectar con la base de datos\n",
    "def connect_to_sakila(user, password, host, database):\n",
    "    engine = create_engine(f'mysql+pymysql://{user}:{password}@{host}/{database}')\n",
    "    return engine\n",
    "\n",
    "# Función rentals_month para recuperar datos de alquiler para un mes y año específicos\n",
    "def rentals_month(engine, month, year):\n",
    "    query = f'''\n",
    "    SELECT r.rental_id, r.customer_id, r.rental_date\n",
    "    FROM rental r\n",
    "    WHERE MONTH(r.rental_date) = {month} AND YEAR(r.rental_date) = {year};\n",
    "    '''\n",
    "    with engine.connect() as connection:\n",
    "        rentals_df = pd.read_sql(query, connection)\n",
    "    return rentals_df\n",
    "\n",
    "# Función rental_count_month para agrupar por customer_id y contar el número de alquileres\n",
    "def rental_count_month(rentals_df):\n",
    "    # Agrupar por customer_id y contar los alquileres\n",
    "    rental_counts = rentals_df.groupby('customer_id').size().reset_index(name='rentals')\n",
    "    return rental_counts\n",
    "\n",
    "# Función compare_rentals para comparar el número de alquileres entre dos meses y años\n",
    "def compare_rentals(engine, month1, year1, month2, year2):\n",
    "    rentals1 = rentals_month(engine, month1, year1)\n",
    "    rentals2 = rentals_month(engine, month2, year2)\n",
    "\n",
    "    rental_counts1 = rental_count_month(rentals1)\n",
    "    rental_counts2 = rental_count_month(rentals2)\n",
    "\n",
    "    # Merge los DataFrames por customer_id\n",
    "    comparison_df = pd.merge(rental_counts1, rental_counts2, on='customer_id', how='outer', suffixes=('_month1', '_month2'))\n",
    "    \n",
    "    # Calcular la diferencia y manejar valores nulos\n",
    "    comparison_df['difference'] = comparison_df['rentals_month2'].fillna(0) - comparison_df['rentals_month1'].fillna(0)\n",
    "    \n",
    "    return comparison_df\n",
    "\n",
    "\n"
   ]
  }
 ],
 "metadata": {
  "kernelspec": {
   "display_name": "Python 3",
   "language": "python",
   "name": "python3"
  },
  "language_info": {
   "codemirror_mode": {
    "name": "ipython",
    "version": 3
   },
   "file_extension": ".py",
   "mimetype": "text/x-python",
   "name": "python",
   "nbconvert_exporter": "python",
   "pygments_lexer": "ipython3",
   "version": "3.12.4"
  }
 },
 "nbformat": 4,
 "nbformat_minor": 2
}
